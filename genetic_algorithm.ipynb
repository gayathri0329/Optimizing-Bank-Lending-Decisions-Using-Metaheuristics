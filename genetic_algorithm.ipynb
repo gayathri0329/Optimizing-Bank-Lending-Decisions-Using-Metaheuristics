{
 "cells": [
  {
   "cell_type": "code",
   "execution_count": 1,
   "metadata": {},
   "outputs": [],
   "source": [
    "#Import required libraries\n",
    "import pandas as pd\n",
    "import random\n",
    "import numpy as np\n",
    "\n",
    "import matplotlib.pyplot as plt\n",
    "from matplotlib import style\n",
    "style.use('Solarize_Light2')\n",
    "%matplotlib qt"
   ]
  },
  {
   "cell_type": "code",
   "execution_count": 2,
   "metadata": {},
   "outputs": [],
   "source": [
    "#Importing given data from excel\n",
    "data=pd.read_csv(\"data.csv\")\n",
    "\n",
    "#Finding the Loan type for the given Loan Size\n",
    "data['Loan_Type(phi)'] = data['Interest'].apply(lambda x: 'M' if (x<=0.028 and x>=0.021) else ('P'  if (x>=0.0599 and x<=0.0609) else('A' if (x>=0.0339 and x<=0.0399) else \"\")))\n"
   ]
  },
  {
   "cell_type": "code",
   "execution_count": 3,
   "metadata": {},
   "outputs": [],
   "source": [
    "#Initializing parameters for Genetic ALgorithm\n",
    "\n",
    "max_iter=60         # maximum iteration for the algo to run\n",
    "n=60                 # population size\n",
    "N=10                 # Number of customers\n",
    "prob_cross=0.8       # probability of crossover\n",
    "prob_mut=0.006       # probability of mutation\n",
    "\n",
    "#Given predefined loan characteristics\n",
    "D=60                 # Financial institutions's Deposit\n",
    "K=0.15               # Reserve Ratio \n",
    "delta=0.0025         # Pre-determined Institutional Cost\n",
    "rT=0.01              # Customer Transaction Rate\n",
    "rD=0.009             # Deposit Rate "
   ]
  },
  {
   "cell_type": "code",
   "execution_count": 4,
   "metadata": {},
   "outputs": [],
   "source": [
    "#Generating initial population\n",
    "\n",
    "initial_population=[]\n",
    "\n",
    "while(len(initial_population) < n):\n",
    "    x = [random.randint(0, 1) for i in range(N)]   # Genrating intial binary string \n",
    "    L=0\n",
    "    for i in range(0,10):\n",
    "        if(x[i]==1):\n",
    "            L+=data.Loan_Size[i]                   # Calculation sum of Loan\n",
    "            \n",
    "        \n",
    "    if L<=((1-K)*D):                              # Checking the feasibility\n",
    "         initial_population.append(x)\n",
    "                          \n",
    "    else : \n",
    "         continue\n"
   ]
  },
  {
   "cell_type": "code",
   "execution_count": 5,
   "metadata": {},
   "outputs": [],
   "source": [
    "#Function to calculate fitness value of given population\n",
    "def calculate_fitness_value(population):\n",
    "\n",
    "    fitness=[]\n",
    "    \n",
    "    for i in population:\n",
    "        \n",
    "        # initialising variables\n",
    "        loan_revenue_nu=0\n",
    "        loan_cost_mu=0\n",
    "        total_transaction_cost_omega=0\n",
    "        demand_deposit_beta=0\n",
    "        sum_lambda=0         #loss\n",
    "        L=0\n",
    "        loan_revenue_nu=0\n",
    "        penalty=0\n",
    "        \n",
    "        # to calculate sum(loan) value\n",
    "        for j in range(N):\n",
    "            if i[j] == 1:\n",
    "                L += data.Loan_Size[j]\n",
    "                \n",
    "                if L>((1-K)*D):           # checking the feasibility and assigning penalty if the condition fails\n",
    "                        penalty=1000\n",
    "        \n",
    "        #to calculate loan characteristics part of fitness function    \n",
    "        for j in range(N):\n",
    "            \n",
    "            if i[j]==1:\n",
    "                loan_revenue_nu+= (data.Interest[j]*data.Loan_Size[j]) - data.Loss[j]\n",
    "                loan_cost_mu+=data.Loan_Size[j]*delta\n",
    "                sum_lambda+=data.Loss[j]\n",
    "                total_transaction_cost_omega+=rT*((1-K)*D-data.Loan_Size[j])\n",
    "                \n",
    "        demand_deposit_beta=rD*D\n",
    "        fitness.append(loan_revenue_nu+loan_cost_mu+total_transaction_cost_omega-demand_deposit_beta-sum_lambda-penalty)\n",
    "\n",
    "        \n",
    "    return fitness"
   ]
  },
  {
   "cell_type": "code",
   "execution_count": 6,
   "metadata": {},
   "outputs": [],
   "source": [
    "#Function for Roulette Wheel selection : Selecting chromosomes for crossover\n",
    "\n",
    "def selection(population,fitness):\n",
    "    \n",
    "    selected_population = []\n",
    "    \n",
    "    # calculating probability of selection\n",
    "    fitness_sum=sum(fitness)\n",
    "    prob_of_select=[x/fitness_sum for x in fitness]\n",
    "    cum_prob=np.cumsum(prob_of_select)\n",
    "    \n",
    "    #generating random number to select chromosomes\n",
    "    random_no=[random.random() for i in range(len(population))]\n",
    "    selection_index=cum_prob.searchsorted(random_no)\n",
    "    \n",
    "    for i in selection_index:\n",
    "        selected_population.append(population[i])\n",
    "        \n",
    "    \n",
    "    \n",
    "    return selected_population  "
   ]
  },
  {
   "cell_type": "code",
   "execution_count": 7,
   "metadata": {},
   "outputs": [],
   "source": [
    "#Function to pair parents for crossover\n",
    "def crossover_pair(population):\n",
    "    \n",
    "    pair_order = np.arange(0,len(population))\n",
    "    random.shuffle(pair_order)\n",
    "   \n",
    "    return pair_order"
   ]
  },
  {
   "cell_type": "code",
   "execution_count": 8,
   "metadata": {},
   "outputs": [],
   "source": [
    "#Perform single crossover\n",
    "def crossover(population,pair_order):\n",
    "    population_crossover=[]\n",
    "    \n",
    "    for i in range(0,len(population)-1,2):\n",
    "        \n",
    "        p1=population[pair_order[i]]\n",
    "        p2=population[pair_order[i+1]]\n",
    "        c1, c2 = p1.copy(), p2.copy()\n",
    "        \n",
    "        if random.random() < prob_cross:\n",
    "            # select crossover point which is not on the end of the string\n",
    "            pt = random.randint(1, len(p1)-2)\n",
    "            # perform crossover\n",
    "            c1 = p1[:pt] + p2[pt:]\n",
    "            c2 = p2[:pt] + p1[pt:]\n",
    "        \n",
    "        #updated population after crossover\n",
    "        population_crossover.append(c1)\n",
    "        population_crossover.append(c2)  \n",
    "        \n",
    "    return population_crossover"
   ]
  },
  {
   "cell_type": "code",
   "execution_count": 9,
   "metadata": {},
   "outputs": [],
   "source": [
    "#Function to perfom mutation\n",
    "def mutation(population):\n",
    "    \n",
    "    population_mutation=[]\n",
    "    population_mutation=population.copy()\n",
    "    \n",
    "    #performs bit-flipping mutation\n",
    "    for i in range(len(population)):\n",
    "        for j in range(N):\n",
    "            if random.random() < prob_mut:\n",
    "                if population_mutation[i][j]==0:\n",
    "                    population_mutation[i][j]=1\n",
    "                else:\n",
    "                    population_mutation[i][j]=0\n",
    "            \n",
    "            \n",
    "       \n",
    "    return population_mutation  \n",
    "    "
   ]
  },
  {
   "cell_type": "code",
   "execution_count": 10,
   "metadata": {},
   "outputs": [],
   "source": [
    "#Genetic Algorithm\n",
    "\n",
    "avg_fitness = []\n",
    "max_fitness = []\n",
    "population_hist = []\n",
    "fitness_histogram = []\n",
    "\n",
    "#Generating Initial Population\n",
    "pop=initial_population\n",
    "\n",
    "#Calculating Fitness Value of Initial Population\n",
    "fitness=calculate_fitness_value(initial_population)\n",
    "\n",
    "#Initialising varibles to find best fitness and best solution\n",
    "best_fitness=max(fitness)\n",
    "best_sol_index=fitness.index(best_fitness)\n",
    "best_sol=pop[best_sol_index]\n",
    "\n",
    "#variables used for plotting graph\n",
    "max_fitness.append(max(fitness))\n",
    "population_hist.extend(pop)\n",
    "fitness_histogram.extend(fitness)\n",
    "\n",
    "\n",
    "#Iterating for max_iter number of generations\n",
    "for i in range(max_iter):\n",
    "    \n",
    "    #Roulette wheel selection\n",
    "    selected_population=selection(pop,fitness) \n",
    "    \n",
    "    #Pairs for crossover\n",
    "    pair=crossover_pair(pop)\n",
    "\n",
    "    #Single point Crossover \n",
    "    population_crossover=crossover(pop,pair)\n",
    "    \n",
    "    #Bit-Flipping mutation\n",
    "    population_mutation=mutation(population_crossover)\n",
    "    pop=population_mutation\n",
    "    fitness=calculate_fitness_value(pop)\n",
    "    \n",
    "    #updating best fitness value and best solution\n",
    "    if best_fitness< max(fitness):\n",
    "        best_fitness=max(fitness)\n",
    "        best_sol_index=fitness.index(best_fitness)\n",
    "        best_sol=pop[best_sol_index]\n",
    "    \n",
    "    #variables used for plotting graph\n",
    "    avg_fitness.append(sum(fitness)/len(fitness))\n",
    "    max_fitness.append(max(fitness))\n",
    "    population_hist.extend(pop)\n",
    "    fitness_histogram.extend(fitness)\n",
    "\n",
    "\n",
    "       "
   ]
  },
  {
   "cell_type": "code",
   "execution_count": 11,
   "metadata": {},
   "outputs": [
    {
     "data": {
      "text/plain": [
       "3.3029"
      ]
     },
     "execution_count": 11,
     "metadata": {},
     "output_type": "execute_result"
    }
   ],
   "source": [
    "best_fitness"
   ]
  },
  {
   "cell_type": "code",
   "execution_count": 12,
   "metadata": {},
   "outputs": [
    {
     "data": {
      "text/plain": [
       "[1, 0, 1, 1, 0, 1, 0, 0, 1, 1]"
      ]
     },
     "execution_count": 12,
     "metadata": {},
     "output_type": "execute_result"
    }
   ],
   "source": [
    "best_sol"
   ]
  },
  {
   "cell_type": "code",
   "execution_count": 13,
   "metadata": {},
   "outputs": [
    {
     "data": {
      "image/png": "[encoded data removed]",
      "text/plain": [
       "<Figure size 432x288 with 1 Axes>"
      ]
     },
     "metadata": {
      "needs_background": "light"
     },
     "output_type": "display_data"
    }
   ],
   "source": [
    "font = {'family':'calibri',\n",
    "        'color':'grey',\n",
    "        'weight':'bold',\n",
    "        'size':20}\n",
    "plt.plot(max_fitness, label=\"Maximum Fitness per generation\")\n",
    "plt.legend()\n",
    "plt.title(\"Fitness vs Generations\", fontdict=font)\n",
    "plt.xlabel(\"Generations\")\n",
    "plt.ylabel(\"Fitness Value\")\n",
    "plt.show()"
   ]
  },
  {
   "cell_type": "code",
   "execution_count": null,
   "metadata": {},
   "outputs": [],
   "source": []
  },
  {
   "cell_type": "code",
   "execution_count": null,
   "metadata": {},
   "outputs": [],
   "source": []
  }
 ],
 "metadata": {
  "kernelspec": {
   "display_name": "Python 3",
   "language": "python",
   "name": "python3"
  },
  "language_info": {
   "codemirror_mode": {
    "name": "ipython",
    "version": 3
   },
   "file_extension": ".py",
   "mimetype": "text/x-python",
   "name": "python",
   "nbconvert_exporter": "python",
   "pygments_lexer": "ipython3",
   "version": "3.7.3"
  }
 },
 "nbformat": 4,
 "nbformat_minor": 2
}
